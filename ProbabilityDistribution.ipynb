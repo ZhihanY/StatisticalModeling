{
 "cells": [
  {
   "cell_type": "code",
   "execution_count": 4,
   "metadata": {},
   "outputs": [],
   "source": [
    "import numpy as np\n",
    "import numpy.random as rnd\n",
    "from scipy import stats\n",
    "import matplotlib.pyplot as plt\n",
    "import seaborn as sns\n",
    "%matplotlib inline"
   ]
  },
  {
   "cell_type": "markdown",
   "metadata": {},
   "source": [
    "### t distribution"
   ]
  },
  {
   "cell_type": "markdown",
   "metadata": {},
   "source": [
    "### geometric distribution\n",
    "確率pで成功する試行が初めて成功するまでの試行回数nが従う確率分布。"
   ]
  },
  {
   "cell_type": "code",
   "execution_count": 32,
   "metadata": {},
   "outputs": [
    {
     "data": {
      "text/plain": [
       "<matplotlib.axes._subplots.AxesSubplot at 0x12eb47198>"
      ]
     },
     "execution_count": 32,
     "metadata": {},
     "output_type": "execute_result"
    },
    {
     "data": {
      "image/png": "[encoded data removed]",
      "text/plain": [
       "<Figure size 432x288 with 1 Axes>"
      ]
     },
     "metadata": {
      "needs_background": "light"
     },
     "output_type": "display_data"
    }
   ],
   "source": [
    "s = rnd.geometric(p=0.2, size=10000)\n",
    "sns.distplot(s, kde=False, bins=np.arange(max(s)+1))"
   ]
  },
  {
   "cell_type": "markdown",
   "metadata": {},
   "source": [
    "### exponential distribution\n",
    "ある期間に平均してラムダ回起こる現象が次に起きるまでの期間Xが従う確率分布。幾何分布の連続変数バージョン。\n",
    "  \n",
    "例） 機械が故障してから次に故障するまでの期間　　\n",
    "  \n",
    "$$f\\left( x\\right) =\\dfrac {1}{\\mu }\\exp \\left( -\\dfrac {x}{\\mu }\\right)　$$\n",
    "$\\mu$: scale parameter"
   ]
  },
  {
   "cell_type": "code",
   "execution_count": 40,
   "metadata": {},
   "outputs": [
    {
     "data": {
      "text/plain": [
       "<matplotlib.axes._subplots.AxesSubplot at 0x12f1b49e8>"
      ]
     },
     "execution_count": 40,
     "metadata": {},
     "output_type": "execute_result"
    },
    {
     "data": {
      "image/png": "[encoded data removed]",
      "text/plain": [
       "<Figure size 432x288 with 1 Axes>"
      ]
     },
     "metadata": {
      "needs_background": "light"
     },
     "output_type": "display_data"
    }
   ],
   "source": [
    "s = rnd.exponential(scale=5.0, size=10000)\n",
    "sns.distplot(s, kde=False, bins=30)"
   ]
  },
  {
   "cell_type": "markdown",
   "metadata": {},
   "source": [
    "### poisson distribution\n",
    "一定期間においてある事象が発生する回数が従う確率分布\n",
    "\n",
    "* probability of a given number of events occurring in a fixed interval of time  \n",
    "\n",
    "if these events occur\n",
    "* with a known constant rate\n",
    "* independently of the time since the last event  \n",
    "\n"
   ]
  },
  {
   "cell_type": "code",
   "execution_count": null,
   "metadata": {},
   "outputs": [],
   "source": []
  },
  {
   "cell_type": "markdown",
   "metadata": {},
   "source": [
    "### negative binomial distribution\n",
    "\n",
    "成功確率pの試行がk回成功するまでに必要な試行回数xが従う確率分布。  \n",
    "  \n",
    "numpyの場合、成功回数 n、成功確率pとした場合の失敗回数が従う確率分布となる。  \n",
    "この場合平均は$n(1-p)/p$、分散$n(1-p)/p^2$\n",
    "\n",
    "$$p\\left( x\\right) =\\begin{pmatrix} x-1 \\\\ k-1 \\end{pmatrix} {p^{k}\\left( 1-p\\right) ^{x-k}}$$"
   ]
  },
  {
   "cell_type": "code",
   "execution_count": 26,
   "metadata": {},
   "outputs": [
    {
     "data": {
      "text/plain": [
       "<matplotlib.axes._subplots.AxesSubplot at 0x12e902278>"
      ]
     },
     "execution_count": 26,
     "metadata": {},
     "output_type": "execute_result"
    },
    {
     "data": {
      "image/png": "[encoded data removed]",
      "text/plain": [
       "<Figure size 432x288 with 1 Axes>"
      ]
     },
     "metadata": {
      "needs_background": "light"
     },
     "output_type": "display_data"
    }
   ],
   "source": [
    "s = rnd.negative_binomial(n=1.0, p=0.2, size=1000)\n",
    "sns.distplot(s, kde=False, bins=np.arange(max(s)+1))"
   ]
  },
  {
   "cell_type": "markdown",
   "metadata": {},
   "source": [
    "### gamma distribution"
   ]
  },
  {
   "cell_type": "code",
   "execution_count": null,
   "metadata": {},
   "outputs": [],
   "source": []
  }
 ],
 "metadata": {
  "kernelspec": {
   "display_name": "Python 3",
   "language": "python",
   "name": "python3"
  },
  "language_info": {
   "codemirror_mode": {
    "name": "ipython",
    "version": 3
   },
   "file_extension": ".py",
   "mimetype": "text/x-python",
   "name": "python",
   "nbconvert_exporter": "python",
   "pygments_lexer": "ipython3",
   "version": "3.7.1"
  }
 },
 "nbformat": 4,
 "nbformat_minor": 2
}
